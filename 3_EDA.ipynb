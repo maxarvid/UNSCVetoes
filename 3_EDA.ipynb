{
 "cells": [
  {
   "cell_type": "code",
   "execution_count": 2,
   "metadata": {},
   "outputs": [],
   "source": [
    "import pandas as pd"
   ]
  },
  {
   "cell_type": "code",
   "execution_count": 3,
   "metadata": {},
   "outputs": [],
   "source": [
    "df = pd.read_csv(\"cleaned_scrape.csv\")"
   ]
  },
  {
   "cell_type": "code",
   "execution_count": 4,
   "metadata": {},
   "outputs": [
    {
     "name": "stdout",
     "output_type": "stream",
     "text": [
      "(41, 13)\n"
     ]
    }
   ],
   "source": [
    "print(df[df.agenda.str.contains(\"Member\")].shape)\n",
    "df_membership = df[df.agenda.str.contains(\"Member\")]"
   ]
  },
  {
   "cell_type": "code",
   "execution_count": 5,
   "metadata": {},
   "outputs": [
    {
     "data": {
      "text/plain": [
       "(39, 13)"
      ]
     },
     "execution_count": 5,
     "metadata": {},
     "output_type": "execute_result"
    }
   ],
   "source": [
    "df[df['agenda'].str.contains(\"Middle East\")].shape"
   ]
  },
  {
   "cell_type": "code",
   "execution_count": 6,
   "metadata": {},
   "outputs": [
    {
     "data": {
      "text/plain": [
       "(22, 13)"
      ]
     },
     "execution_count": 6,
     "metadata": {},
     "output_type": "execute_result"
    }
   ],
   "source": [
    "df[df['agenda'].str.contains(\"Palest\")].shape"
   ]
  },
  {
   "cell_type": "code",
   "execution_count": 7,
   "metadata": {},
   "outputs": [
    {
     "data": {
      "text/plain": [
       "USSR     34\n",
       "USA       6\n",
       "China     1\n",
       "Name: veto_power, dtype: int64"
      ]
     },
     "execution_count": 7,
     "metadata": {},
     "output_type": "execute_result"
    }
   ],
   "source": [
    "df_membership.veto_power.value_counts()"
   ]
  },
  {
   "cell_type": "code",
   "execution_count": 8,
   "metadata": {},
   "outputs": [
    {
     "data": {
      "text/plain": [
       "USA                         25\n",
       "Russian_Federation           7\n",
       "China Russian_Federation     6\n",
       "USSR                         1\n",
       "Name: veto_power, dtype: int64"
      ]
     },
     "execution_count": 8,
     "metadata": {},
     "output_type": "execute_result"
    }
   ],
   "source": [
    "df[df['agenda'].str.contains(\"Middle East\")].veto_power.value_counts()"
   ]
  },
  {
   "cell_type": "code",
   "execution_count": 9,
   "metadata": {},
   "outputs": [
    {
     "data": {
      "text/plain": [
       "USA          15\n",
       "USSR          5\n",
       "France UK     2\n",
       "Name: veto_power, dtype: int64"
      ]
     },
     "execution_count": 9,
     "metadata": {},
     "output_type": "execute_result"
    }
   ],
   "source": [
    "df[df['agenda'].str.contains(\"Palest\")].veto_power.value_counts()"
   ]
  },
  {
   "cell_type": "code",
   "execution_count": 10,
   "metadata": {},
   "outputs": [
    {
     "data": {
      "text/plain": [
       "China Russian_Federation    4\n",
       "USSR                        1\n",
       "France UK USA               1\n",
       "USA                         1\n",
       "Name: veto_power, dtype: int64"
      ]
     },
     "execution_count": 10,
     "metadata": {},
     "output_type": "execute_result"
    }
   ],
   "source": [
    "#More clearly:\n",
    "df[df['agenda'].str.contains(\"Syria\")].veto_power.value_counts()"
   ]
  },
  {
   "cell_type": "code",
   "execution_count": 11,
   "metadata": {},
   "outputs": [
    {
     "data": {
      "text/plain": [
       "datetime.datetime(1946, 2, 16, 0, 0)"
      ]
     },
     "execution_count": 11,
     "metadata": {},
     "output_type": "execute_result"
    }
   ],
   "source": [
    "from datetime import datetime\n",
    "\n",
    "time_str = '16 February 1946'\n",
    "\n",
    "datetime_obj = datetime.strptime(time_str,\"%d %B %Y\")\n",
    "\n",
    "datetime_obj"
   ]
  },
  {
   "cell_type": "code",
   "execution_count": 12,
   "metadata": {},
   "outputs": [],
   "source": [
    "df.date = df.date.str.replace(r\"^(0)\", \"\") #getting rid of the inconsistent formatting for the day.\n",
    "df.date = df.date.str.replace(\"14-15\", \"14\") #getting rid of the 2nd day for meetings that ran pas midight. \n",
    "df.date = df.date.str.replace(\"27-28\", \"27\")\n",
    "df.date = df.date.str.replace(\"30 January 86\", \"30 January 1986\")\n",
    "df.date = df.date.str.replace(\"11-13\", \"11\")\n",
    "df.date = df.date.str.replace(\"1980 \", \"1980\")\n",
    "df.date = df.date.str.replace(\"7-9\", \"7\")\n",
    "df.date = df.date.str.replace(\"3-4\", \"3\")"
   ]
  },
  {
   "cell_type": "code",
   "execution_count": 13,
   "metadata": {},
   "outputs": [],
   "source": [
    "def datetime_function(row):\n",
    "    datetime_obj = datetime.strptime(row.date, \"%d %B %Y\")\n",
    "    return datetime_obj"
   ]
  },
  {
   "cell_type": "code",
   "execution_count": 14,
   "metadata": {},
   "outputs": [],
   "source": [
    "df['datetime'] = df.apply(datetime_function, axis=1)"
   ]
  },
  {
   "cell_type": "code",
   "execution_count": 15,
   "metadata": {},
   "outputs": [
    {
     "data": {
      "text/plain": [
       "agenda                        object\n",
       "date                          object\n",
       "draft                         object\n",
       "draft_url                     object\n",
       "meeting_record                object\n",
       "meeting_record_url            object\n",
       "veto_power                    object\n",
       "veto_china                    object\n",
       "veto_france                   object\n",
       "veto_russia                   object\n",
       "veto_ussr                     object\n",
       "veto_uk                       object\n",
       "veto_usa                      object\n",
       "datetime              datetime64[ns]\n",
       "dtype: object"
      ]
     },
     "execution_count": 15,
     "metadata": {},
     "output_type": "execute_result"
    }
   ],
   "source": [
    "df.dtypes"
   ]
  },
  {
   "cell_type": "code",
   "execution_count": 16,
   "metadata": {},
   "outputs": [
    {
     "name": "stdout",
     "output_type": "stream",
     "text": [
      "1946-02-16 00:00:00 2018-06-01 00:00:00\n"
     ]
    }
   ],
   "source": [
    "#We have datetime! Let's make sure:\n",
    "print(df.datetime.min(),df.datetime.max())"
   ]
  },
  {
   "cell_type": "code",
   "execution_count": 17,
   "metadata": {},
   "outputs": [],
   "source": [
    "df['agenda_cleaned'] = df.agenda.str.replace('^The question of ',\"\")\n",
    "df['agenda_cleaned'] = df.agenda.str.replace('The situation in ',\"\")\n",
    "df['agenda_cleaned'] = df.agenda.str.replace('The situation inMiddle East',\"Middle East\")\n",
    "df['agenda_cleaned'] = df.agenda.str.replace('The situation in the Middle East ',\"Middle East\")\n",
    "df['agenda_cleaned'] = df.agenda_cleaned.str.replace(\"^The situation in \", \"\")\n",
    "df['agenda_cleaned'] = df.agenda_cleaned.str.replace(\"^The situation in \", \"\")\n",
    "df['agenda_cleaned'] = df.agenda_cleaned.str.replace(\" question$\", \"\")\n",
    "df['agenda_cleaned'] = df.agenda_cleaned.str.replace(\"^The \", \"\")\n",
    "df['agenda_cleaned'] = df.agenda_cleaned.str.replace(\"^.*Palestinian\", \"Palestine\")\n",
    "df['agenda_cleaned'] = df.agenda_cleaned.str.replace(\"^question of \", \"\")\n",
    "df['agenda_cleaned'] = df.agenda_cleaned.str.replace('^Middle East ', \"Middle East\")\n",
    "df['agenda_cleaned'] = df.agenda_cleaned.str.replace(\"^the \", \"\")\n",
    "df['agenda_cleaned'] = df.agenda_cleaned.str.replace(\"^Question concerning the situation in\", \"\")\n",
    "df['agenda_cleaned'] = df.agenda_cleaned.str.replace(\"^ \", \"\")\n",
    "df['agenda_cleaned'] = df.agenda_cleaned.str.replace(\" $\", \"\")\n",
    "df['agenda_cleaned'] = df.agenda_cleaned.str.replace(\"^Namibia \", \"Namibia\")\n",
    "df['agenda_cleaned'] = df.agenda_cleaned.str.replace(\"Spanish\", \"Spain\")\n",
    "df['agenda_cleaned'] = df.agenda_cleaned.str.replace(\"Spanish\", \"Spain\")\n",
    "df['agenda_cleaned'] = df.agenda_cleaned.str.replace(\"Complaint by Angola against South Africa\", \"South Africa\")"
   ]
  },
  {
   "cell_type": "code",
   "execution_count": 19,
   "metadata": {},
   "outputs": [
    {
     "data": {
      "text/plain": [
       "Middle East                                                                                                                                                                                                                                    22\n",
       "Palestine                                                                                                                                                                                                                                      18\n",
       "occupied Arab territories                                                                                                                                                                                                                      15\n",
       "Namibia                                                                                                                                                                                                                                         8\n",
       "South Africa                                                                                                                                                                                                                                    7\n",
       "Southern Rhodesia                                                                                                                                                                                                                               6\n",
       "Application for Membership Italy                                                                                                                                                                                                                4\n",
       "Middle East- Syria                                                                                                                                                                                                                              4\n",
       "Application for Membership Ireland                                                                                                                                                                                                              3\n",
       "Spain                                                                                                                                                                                                                                           3\n",
       "Application for Membership Ceylon                                                                                                                                                                                                               3\n",
       "Regulation and reduction of armaments and armed forces                                                                                                                                                                                          3\n",
       "Application for Membership Transjordan                                                                                                                                                                                                          3\n",
       "Application for Membership Portugal                                                                                                                                                                                                             3\n",
       "Greek question Greek frontier incidents                                                                                                                                                                                                         3\n",
       "Cyprus                                                                                                                                                                                                                                          3\n",
       "India-Pakistan                                                                                                                                                                                                                                  2\n",
       "Letter dated 22 May 1958 from Lebanon and Letter dated 17 July 1958 from Jordan to the President of the Security Council Complaints by Lebanon and Jordan concerning the interference in their internal affairs by the United Arab Republic     2\n",
       "Application for Membership Finland                                                                                                                                                                                                              2\n",
       "Admission of new Members Democratic Republic of Viet-Nam                                                                                                                                                                                        2\n",
       "Admission of new Members Viet-Nam                                                                                                                                                                                                               2\n",
       "Admission of new Members Japan                                                                                                                                                                                                                  2\n",
       "Admission of new Members Republic of Korea                                                                                                                                                                                                      2\n",
       "Application for Membership Austria                                                                                                                                                                                                              2\n",
       "Telegrams dated 13 July 1960 from the USSR to the Secretary-General                                                                                                                                                                             2\n",
       "Question of a request for investigation of alleged bacterial warfare                                                                                                                                                                            2\n",
       "Letter dated 28 February 2014 from the Permanent Representative of Ukraine to the United Nations addressed to the President of the Security Council (S/2014/136)                                                                                2\n",
       "Admission of new Members Republic of South Viet-Nam                                                                                                                                                                                             2\n",
       "Palestine people of its inalienable rights                                                                                                                                                                                                      2\n",
       "Bosnia and Herzegovina                                                                                                                                                                                                                          2\n",
       "                                                                                                                                                                                                                                               ..\n",
       "Letter  dated 29 October 1956 from the USA to the President of the Security Council concerning the Palestine                                                                                                                                    1\n",
       "Letter dated 12 December 1971 from the USA to the President of the Security Council concerning the India-Pakistan                                                                                                                               1\n",
       "Letter dated 12 Mar 1948 from Chile to the Secretary-General events in Czechoslovakia preliminary                                                                                                                                               1\n",
       "Letter dated 29 October 1956 from the USA to the President of the Security Council concerning the Palestine                                                                                                                                     1\n",
       "Admission of new Members Vietnam                                                                                                                                                                                                                1\n",
       "the region of the Falkland Islands (Islas Malvinas)                                                                                                                                                                                             1\n",
       "Admission of new Members Cambodia                                                                                                                                                                                                               1\n",
       "Letter dated 13 July 1960 from the Secretary-General to the President of the Security Council concerning the situation in the Congo                                                                                                             1\n",
       "Application for Membership Republic of Korea                                                                                                                                                                                                    1\n",
       "Myanmar                                                                                                                                                                                                                                         1\n",
       "Complaint of bombing by air forces of the territory of China                                                                                                                                                                                    1\n",
       "Application for Membership Nepal                                                                                                                                                                                                                1\n",
       "Letter dated 13 July 1960 from the Secretary-General to the President of the Security Council the situation in the Congo                                                                                                                        1\n",
       "Complaint of aggression upon the Republic of Korea                                                                                                                                                                                              1\n",
       "Southern Africa                                                                                                                                                                                                                                 1\n",
       "Letter dated 12 Mar 1948 from Chile to the Secretary-General events in Czechoslovakia                                                                                                                                                           1\n",
       "Letter dated 19 March 1982 from Nicaragua to the Secretary-General                                                                                                                                                                              1\n",
       "Admission of new Members Libya                                                                                                                                                                                                                  1\n",
       "Letter dated 26 May 1948 from the Chairman of the Atomic Energy Commission to the President of the Security Council transmitting the Third Report of the Commission                                                                             1\n",
       "Consideration of measures for the maintenance and strengthening of peace and security in Latin America                                                                                                                                          1\n",
       "Spain question preliminary                                                                                                                                                                                                                      1\n",
       "Relationship between the UN and South Africa                                                                                                                                                                                                    1\n",
       "Letter dated 4 December 1971 from Argentina, Belgium, Burundi, Italy, Japan, Nicaragua, Somalia, the UK and the USA to the President of the Security Council concerning the India-Pakistan                                                      1\n",
       "Letters dated 4 January 1989 from Libya and Bahrain to the President of the Security Council                                                                                                                                                    1\n",
       "Complaints by Kuwait in respect of the situation arising from the threat by Iraq to the territorial integrity of Kuwait                                                                                                                         1\n",
       "Letter dated 22 July 1986 from Nicaragua to the President of the Security Council                                                                                                                                                               1\n",
       "Incidents in the Corfu Channel                                                                                                                                                                                                                  1\n",
       "Applications for membership Mauritania                                                                                                                                                                                                          1\n",
       "Greek question concerning the situation in northern Greece                                                                                                                                                                                      1\n",
       "Applications for Membership Kuwait                                                                                                                                                                                                              1\n",
       "Name: agenda_cleaned, Length: 98, dtype: int64"
      ]
     },
     "execution_count": 19,
     "metadata": {},
     "output_type": "execute_result"
    }
   ],
   "source": [
    "df.agenda_cleaned.value_counts()"
   ]
  },
  {
   "cell_type": "code",
   "execution_count": 20,
   "metadata": {},
   "outputs": [
    {
     "data": {
      "text/plain": [
       "veto_power                agenda_cleaned                                                                                                                                                                                                         \n",
       "China                     Admission of new Members Bangladesh                                                                                                                                                                                         1\n",
       "                          Central America: efforts towards peace                                                                                                                                                                                      1\n",
       "                          former Yugoslav Republic of Macedonia                                                                                                                                                                                       1\n",
       "China Russian_Federation  Middle East- Syria                                                                                                                                                                                                          4\n",
       "                          Middle East                                                                                                                                                                                                                 2\n",
       "                          Myanmar                                                                                                                                                                                                                     1\n",
       "                          Peace and Security - Africa (Zimbabwe)                                                                                                                                                                                      1\n",
       "France                    Comoros                                                                                                                                                                                                                     1\n",
       "France UK                 Letter  dated 29 October 1956 from the USA to the President of the Security Council concerning the Palestine                                                                                                                1\n",
       "                          Letter dated 29 October 1956 from the USA to the President of the Security Council concerning the Palestine                                                                                                                 1\n",
       "France UK USA             Namibia                                                                                                                                                                                                                     6\n",
       "                          South Africa                                                                                                                                                                                                                3\n",
       "                          Letters dated 15 April 1986 from Libya, Burkina Faso, Syria and Oman to the President of the Security Council                                                                                                               1\n",
       "                          Letters dated 4 January 1989 from Libya and Bahrain to the President of the Security Council                                                                                                                                1\n",
       "                          Panama                                                                                                                                                                                                                      1\n",
       "                          Relationship between the UN and South Africa                                                                                                                                                                                1\n",
       "Russian_Federation        Middle East                                                                                                                                                                                                                 7\n",
       "                          Cyprus                                                                                                                                                                                                                      2\n",
       "                          Letter dated 28 February 2014 from the Permanent Representative of Ukraine to the United Nations addressed to the President of the Security Council (S/2014/136)                                                            2\n",
       "                          Bosnia and Herzegovina                                                                                                                                                                                                      1\n",
       "                          Georgia                                                                                                                                                                                                                     1\n",
       "                          Republic of Bosnia and Herzegovina                                                                                                                                                                                          1\n",
       "UK                        Southern Rhodesia                                                                                                                                                                                                           4\n",
       "                          Consideration of questions relating to Africa of which the Security Council is currently seized and implementation of the Council's relevant resolutions the situation in Southern Rhodesia                                 1\n",
       "UK USA                    South Africa                                                                                                                                                                                                                3\n",
       "                          Namibia                                                                                                                                                                                                                     2\n",
       "                          Southern Rhodesia                                                                                                                                                                                                           2\n",
       "                          Southern Africa                                                                                                                                                                                                             1\n",
       "                          the region of the Falkland Islands (Islas Malvinas)                                                                                                                                                                         1\n",
       "USA                       occupied Arab territories                                                                                                                                                                                                  15\n",
       "                                                                                                                                                                                                                                                     ..\n",
       "USSR                      Complaint of armed invasion of Taiwan (Formosa); Complaint of aggression upon the Republic of Korea                                                                                                                         1\n",
       "                          Complaint of bombing by air forces of the territory of China                                                                                                                                                                1\n",
       "                          Complaints by Kuwait in respect of the situation arising from the threat by Iraq to the territorial integrity of Kuwait                                                                                                     1\n",
       "                          Cyprus                                                                                                                                                                                                                      1\n",
       "                          Greek question concerning the situation in northern Greece                                                                                                                                                                  1\n",
       "                          Greek question concerning the situation in northern, Greece preliminary                                                                                                                                                     1\n",
       "                          Identical notifications dated 29 September 1948 from France, the UK and the USA to the Secretary-General Berlin blockade                                                                                                    1\n",
       "                          Incidents in the Corfu Channel                                                                                                                                                                                              1\n",
       "                          Letter dated 12 December 1971 from the USA to the President of the Security Council concerning the India-Pakistan                                                                                                           1\n",
       "                          Letter dated 12 Mar 1948 from Chile to the Secretary-General events in Czechoslovakia                                                                                                                                       1\n",
       "                          Letter dated 12 Mar 1948 from Chile to the Secretary-General events in Czechoslovakia preliminary                                                                                                                           1\n",
       "                          Letter dated 13 July 1960 from the Secretary-General to the President of the Security Council concerning the situation in the Congo                                                                                         1\n",
       "                          Letter dated 13 July 1960 from the Secretary-General to the President of the Security Council the situation in the Congo                                                                                                    1\n",
       "                          Letter dated 18 December 1961 from Portugal to the President of the Security Council concerning Goa                                                                                                                         1\n",
       "                          Letter dated 21 August 1968 from Canada, Denmark, France, Paraguay, the UK and the USA to the President of the Security Council concerning the situation in Czechoslovakia                                                  1\n",
       "                          Letter dated 26 May 1948 from the Chairman of the Atomic Energy Commission to the President of the Security Council transmitting the Third Report of the Commission                                                         1\n",
       "                          Letter dated 27 October 1956 from France, the UK and the USA to the President of the Security Council concerning the situation in Hungary                                                                                   1\n",
       "                          Letter dated 29 May 1954 from Thailand to the President of the Security Council                                                                                                                                             1\n",
       "                          Letter dated 3 January 1980 from 52 countries to the President of the Security Council                                                                                                                                      1\n",
       "                          Letter dated 3 September 1964 from Malaysia to the President of the Security Council                                                                                                                                        1\n",
       "                          Letter dated 4 December 1971 from Argentina, Belgium, Burundi, Italy, Japan, Nicaragua, Somalia, the UK and the USA to the President of the Security Council concerning the India-Pakistan                                  1\n",
       "                          Letter dated 4 December 1971 from Argentina, Belgium, Burundi, Italy, Japan, Nicaragua, Somalia, the UK and the USA to the President of the Security Council concerning the IndiaPakistan                                   1\n",
       "                          Letter from the Heads of the Lebanese and Syrian delegations to the Secretary-General dated 4 February 1946                                                                                                                 1\n",
       "                          Letters dated 1 September 1983 from the USA, the Republic of Korea, Canada and Japan to the President of the Security Council and Letter dated 2 September 1983 from Australia to the President of the Security Council     1\n",
       "                          Letters dated 22 December 1979 from the USA to the President of the Security Council US and Iran hostage                                                                                                                    1\n",
       "                          Middle East                                                                                                                                                                                                                 1\n",
       "                          South-East Asia and its implications for international peace and security China and Viet Nam border dispute                                                                                                                 1\n",
       "                          Spain question preliminary                                                                                                                                                                                                  1\n",
       "                          Telegram dated 24 August 1946 from the Ukrainian Soviet Socialist Republic to the Secretary-General                                                                                                                         1\n",
       "                          Telegram dated 3 January 1979 from Democratic Kampuchea to the President of the Security Council                                                                                                                            1\n",
       "Name: agenda_cleaned, Length: 108, dtype: int64"
      ]
     },
     "execution_count": 20,
     "metadata": {},
     "output_type": "execute_result"
    }
   ],
   "source": [
    "df.groupby('veto_power').agenda_cleaned.value_counts()"
   ]
  },
  {
   "cell_type": "code",
   "execution_count": 21,
   "metadata": {},
   "outputs": [],
   "source": [
    "df.to_csv(\"veto_data_cleaned.csv\", index=False)"
   ]
  },
  {
   "cell_type": "code",
   "execution_count": null,
   "metadata": {},
   "outputs": [],
   "source": []
  }
 ],
 "metadata": {
  "kernelspec": {
   "display_name": "Python 3",
   "language": "python",
   "name": "python3"
  },
  "language_info": {
   "codemirror_mode": {
    "name": "ipython",
    "version": 3
   },
   "file_extension": ".py",
   "mimetype": "text/x-python",
   "name": "python",
   "nbconvert_exporter": "python",
   "pygments_lexer": "ipython3",
   "version": "3.6.4"
  }
 },
 "nbformat": 4,
 "nbformat_minor": 2
}
