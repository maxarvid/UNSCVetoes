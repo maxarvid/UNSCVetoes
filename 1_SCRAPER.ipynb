{
 "cells": [
  {
   "cell_type": "code",
   "execution_count": 1,
   "metadata": {},
   "outputs": [],
   "source": [
    "from bs4 import BeautifulSoup\n",
    "import pandas as pd\n",
    "import requests\n",
    "import re\n",
    "import time\n",
    "pd.set_option('display.max_colwidth', -1)\n",
    "\n",
    "from selenium import webdriver\n",
    "from selenium.webdriver.common.keys import Keys\n",
    "from selenium.webdriver.support.ui import Select\n",
    "from selenium.webdriver.support.ui import WebDriverWait"
   ]
  },
  {
   "cell_type": "markdown",
   "metadata": {},
   "source": [
    "First we head to http://research.un.org/en/docs/sc/quick/veto where the UN librarians maintain a list of vetoes."
   ]
  },
  {
   "cell_type": "code",
   "execution_count": 2,
   "metadata": {},
   "outputs": [],
   "source": [
    "response = requests.get('http://www.un.org/depts/dhl/resguide/scact_veto_table_en.htm')\n",
    "soup_doc = BeautifulSoup(response.content, 'html.parser')\n",
    "#print(soup_doc.prettify())"
   ]
  },
  {
   "cell_type": "code",
   "execution_count": 3,
   "metadata": {},
   "outputs": [],
   "source": [
    "#Before we get started, we also need to specify a bunch of stuff for a selenium driver, whose only purpose is to grab\n",
    "#the document name.\n",
    "\n",
    "download_dir = \"/Users/max/Lede/Data_Databases/unsc_vetos/final_project/presentation/pdfs/\"\n",
    "options = webdriver.ChromeOptions()\n",
    "\n",
    "#NB I'm keeping the pdf viewer enable below, as this was the only way I found to grab the file name.\n",
    "profile = {\"plugins.plugins_list\": [{\"enabled\": True, \"name\": \"Chrome PDF Viewer\"}],\n",
    "               \"download.default_directory\": download_dir , \"download.extensions_to_open\": \"applications/pdf\"}\n",
    "options.add_experimental_option(\"prefs\", profile)\n",
    "\n",
    "driver = webdriver.Chrome(chrome_options=options)"
   ]
  },
  {
   "cell_type": "markdown",
   "metadata": {},
   "source": [
    "# Don't run the below unless you have some time to spare\n",
    "The UN names its documents in a way that I can only access with Selenium, so this one takes a while."
   ]
  },
  {
   "cell_type": "code",
   "execution_count": 6,
   "metadata": {},
   "outputs": [],
   "source": [
    "#Sigh. Here we go:\n",
    "veto_list = []\n",
    "for cell in soup_doc.findAll('tr')[3:]:\n",
    "    #print('---------------')\n",
    "    veto_dict = {}\n",
    "    veto_dict['date'] = cell.findAll('td')[0].string\n",
    "    veto_dict['draft'] = cell.findAll('a')[0].string\n",
    "    veto_dict['draft_url'] = cell.findAll('a')[0].get('href')\n",
    "    veto_dict['meeting_record'] = cell.findAll('a')[1].string\n",
    "    #print(cell.findAll('a')[1].string)\n",
    "    veto_dict['meeting_record_url'] = cell.findAll('a')[1].get('href')\n",
    "    veto_dict['agenda'] = cell.findAll('td')[3].string\n",
    "    if cell.findAll('td')[4].next.next == '\\n':\n",
    "        veto_dict['veto_power'] = cell.findAll('td')[4].string\n",
    "    else:\n",
    "        veto_dict['veto_power'] = cell.findAll('td')[4].string + cell.findAll('td')[4].next.next + cell.findAll('td')[4].next.next.next\n",
    "    veto_list.append(veto_dict)\n",
    "#veto_list"
   ]
  },
  {
   "cell_type": "code",
   "execution_count": 7,
   "metadata": {},
   "outputs": [
    {
     "data": {
      "text/plain": [
       "USSR                         90\n",
       "USA                          59\n",
       "Russian Federation           14\n",
       "France UK USA                11\n",
       "UK USA\\n                     9 \n",
       "UK                           5 \n",
       "ChinaRussian Federation\\n    4 \n",
       "ChinaRussian Federation      4 \n",
       "China                        3 \n",
       "FranceUK USA                 2 \n",
       "France                       1 \n",
       "France UK\\n                  1 \n",
       "FranceUK\\n                   1 \n",
       "Name: veto_power, dtype: int64"
      ]
     },
     "execution_count": 7,
     "metadata": {},
     "output_type": "execute_result"
    }
   ],
   "source": [
    "df = pd.DataFrame(veto_list)\n",
    "df.veto_power.value_counts()"
   ]
  },
  {
   "cell_type": "code",
   "execution_count": 8,
   "metadata": {},
   "outputs": [],
   "source": [
    "df.to_csv('raw_scrape.csv', index=False)"
   ]
  },
  {
   "cell_type": "code",
   "execution_count": null,
   "metadata": {},
   "outputs": [],
   "source": []
  }
 ],
 "metadata": {
  "kernelspec": {
   "display_name": "Python 3",
   "language": "python",
   "name": "python3"
  },
  "language_info": {
   "codemirror_mode": {
    "name": "ipython",
    "version": 3
   },
   "file_extension": ".py",
   "mimetype": "text/x-python",
   "name": "python",
   "nbconvert_exporter": "python",
   "pygments_lexer": "ipython3",
   "version": "3.6.4"
  }
 },
 "nbformat": 4,
 "nbformat_minor": 2
}
