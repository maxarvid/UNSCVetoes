{
 "cells": [
  {
   "cell_type": "code",
   "execution_count": 1,
   "metadata": {},
   "outputs": [],
   "source": [
    "import pandas as pd\n",
    "import re"
   ]
  },
  {
   "cell_type": "code",
   "execution_count": 2,
   "metadata": {},
   "outputs": [],
   "source": [
    "df = pd.read_csv('veto_data_cleaned.csv')"
   ]
  },
  {
   "cell_type": "code",
   "execution_count": 3,
   "metadata": {},
   "outputs": [
    {
     "data": {
      "text/html": [
       "<div>\n",
       "<style scoped>\n",
       "    .dataframe tbody tr th:only-of-type {\n",
       "        vertical-align: middle;\n",
       "    }\n",
       "\n",
       "    .dataframe tbody tr th {\n",
       "        vertical-align: top;\n",
       "    }\n",
       "\n",
       "    .dataframe thead th {\n",
       "        text-align: right;\n",
       "    }\n",
       "</style>\n",
       "<table border=\"1\" class=\"dataframe\">\n",
       "  <thead>\n",
       "    <tr style=\"text-align: right;\">\n",
       "      <th></th>\n",
       "      <th>agenda</th>\n",
       "      <th>date</th>\n",
       "      <th>draft</th>\n",
       "      <th>draft_url</th>\n",
       "      <th>meeting_record</th>\n",
       "      <th>meeting_record_url</th>\n",
       "      <th>veto_power</th>\n",
       "      <th>veto_china</th>\n",
       "      <th>veto_france</th>\n",
       "      <th>veto_russia</th>\n",
       "      <th>veto_ussr</th>\n",
       "      <th>veto_uk</th>\n",
       "      <th>veto_usa</th>\n",
       "      <th>datetime</th>\n",
       "      <th>agenda_cleaned</th>\n",
       "    </tr>\n",
       "  </thead>\n",
       "  <tbody>\n",
       "    <tr>\n",
       "      <th>113</th>\n",
       "      <td>Admission of new Members Bangladesh</td>\n",
       "      <td>25 August 1972</td>\n",
       "      <td>S/10771</td>\n",
       "      <td>http://www.un.org/en/ga/search/view_doc.asp?sy...</td>\n",
       "      <td>S/PV.1660</td>\n",
       "      <td>http://www.un.org/en/ga/search/view_doc.asp?sy...</td>\n",
       "      <td>China</td>\n",
       "      <td>China</td>\n",
       "      <td>NaN</td>\n",
       "      <td>NaN</td>\n",
       "      <td>NaN</td>\n",
       "      <td>NaN</td>\n",
       "      <td>NaN</td>\n",
       "      <td>1972-08-25</td>\n",
       "      <td>Admission of new Members Bangladesh</td>\n",
       "    </tr>\n",
       "  </tbody>\n",
       "</table>\n",
       "</div>"
      ],
      "text/plain": [
       "                                  agenda            date    draft  \\\n",
       "113  Admission of new Members Bangladesh  25 August 1972  S/10771   \n",
       "\n",
       "                                             draft_url meeting_record  \\\n",
       "113  http://www.un.org/en/ga/search/view_doc.asp?sy...      S/PV.1660   \n",
       "\n",
       "                                    meeting_record_url veto_power veto_china  \\\n",
       "113  http://www.un.org/en/ga/search/view_doc.asp?sy...      China      China   \n",
       "\n",
       "    veto_france veto_russia veto_ussr veto_uk veto_usa    datetime  \\\n",
       "113         NaN         NaN       NaN     NaN      NaN  1972-08-25   \n",
       "\n",
       "                          agenda_cleaned  \n",
       "113  Admission of new Members Bangladesh  "
      ]
     },
     "execution_count": 3,
     "metadata": {},
     "output_type": "execute_result"
    }
   ],
   "source": [
    "df_membership = df[df.agenda_cleaned.str.contains(r\"[Mm]embers\")]\n",
    "df_membership[df_membership.veto_china == 'China']"
   ]
  },
  {
   "cell_type": "code",
   "execution_count": 4,
   "metadata": {},
   "outputs": [
    {
     "data": {
      "text/plain": [
       "93                     Admission of new Members Viet Nam\n",
       "96                       Admission of new Members Angola\n",
       "101    Admission of new Members Democratic Republic o...\n",
       "102    Admission of new Members Republic of South Vie...\n",
       "103    Admission of new Members Democratic Republic o...\n",
       "104    Admission of new Members Republic of South Vie...\n",
       "113                  Admission of new Members Bangladesh\n",
       "129                   Applications for Membership Kuwait\n",
       "132               Applications for membership Mauritania\n",
       "136                    Admission of new Members Viet-Nam\n",
       "137           Admission of new Members Republic of Korea\n",
       "141                    Admission of new Members Viet-Nam\n",
       "142           Admission of new Members Republic of Korea\n",
       "147                       Admission of new Members Japan\n",
       "152                    Admission of new Members Cambodia\n",
       "153                        Admission of new Members Laos\n",
       "154                     Admission of new Members Vietnam\n",
       "155                       Admission of new Members Japan\n",
       "156                       Admission of new Members Libya\n",
       "159                       Admission of new Members Italy\n",
       "166                    Application for Membership Ceylon\n",
       "167                   Application for Membership Austria\n",
       "168                   Application for Membership Ireland\n",
       "169                   Application for Membership Finland\n",
       "170                     Application for Membership Italy\n",
       "171               Application for Membership Transjordan\n",
       "172                  Application for Membership Portugal\n",
       "173                     Application for Membership Nepal\n",
       "174         Application for Membership Republic of Korea\n",
       "175                    Application for Membership Ceylon\n",
       "177                    Application for Membership Ceylon\n",
       "181                     Application for Membership Italy\n",
       "182                     Application for Membership Italy\n",
       "183                   Application for Membership Finland\n",
       "186                   Application for Membership Austria\n",
       "187                     Application for Membership Italy\n",
       "190                  Application for Membership Portugal\n",
       "191                   Application for Membership Ireland\n",
       "192               Application for Membership Transjordan\n",
       "196                  Application for Membership Portugal\n",
       "197                   Application for Membership Ireland\n",
       "198               Application for Membership Transjordan\n",
       "Name: agenda_cleaned, dtype: object"
      ]
     },
     "execution_count": 4,
     "metadata": {},
     "output_type": "execute_result"
    }
   ],
   "source": [
    "df_membership.agenda_cleaned"
   ]
  },
  {
   "cell_type": "code",
   "execution_count": 5,
   "metadata": {},
   "outputs": [
    {
     "name": "stderr",
     "output_type": "stream",
     "text": [
      "/Users/max/.pyenv/versions/3.6.4/lib/python3.6/site-packages/ipykernel_launcher.py:3: SettingWithCopyWarning: \n",
      "A value is trying to be set on a copy of a slice from a DataFrame.\n",
      "Try using .loc[row_indexer,col_indexer] = value instead\n",
      "\n",
      "See the caveats in the documentation: http://pandas.pydata.org/pandas-docs/stable/indexing.html#indexing-view-versus-copy\n",
      "  This is separate from the ipykernel package so we can avoid doing imports until\n"
     ]
    }
   ],
   "source": [
    "#Hmm, the best way to clean this would be to use some str.replace, it's too irregular for split(' ') and then indexing.\n",
    "\n",
    "df_membership['impacted_country'] = df_membership.agenda_cleaned.str.replace('Application for Membership ','')"
   ]
  },
  {
   "cell_type": "code",
   "execution_count": 6,
   "metadata": {},
   "outputs": [
    {
     "name": "stderr",
     "output_type": "stream",
     "text": [
      "/Users/max/.pyenv/versions/3.6.4/lib/python3.6/site-packages/pandas/core/generic.py:4401: SettingWithCopyWarning: \n",
      "A value is trying to be set on a copy of a slice from a DataFrame.\n",
      "Try using .loc[row_indexer,col_indexer] = value instead\n",
      "\n",
      "See the caveats in the documentation: http://pandas.pydata.org/pandas-docs/stable/indexing.html#indexing-view-versus-copy\n",
      "  self[name] = value\n"
     ]
    }
   ],
   "source": [
    "df_membership.impacted_country = df_membership.impacted_country.str.replace('Admission of new Members ','')\n",
    "df_membership.impacted_country = df_membership.impacted_country.str.replace('Applications for [Mm]embership ','')\n",
    "df_membership.impacted_country = df_membership.impacted_country.str.replace(\".*Viet-Nam\", 'Viet Nam')\n",
    "df_membership.impacted_country = df_membership.impacted_country.str.replace(\"Viet Nam\", 'Vietnam')\n",
    "#Let's change Ceylon to Sri Lanka to get the right shapefile:\n",
    "df_membership.impacted_country = df_membership.impacted_country.str.replace('Ceylon', 'Sri Lanka')\n",
    "#And Transjordan to Jordan.\n",
    "df_membership.impacted_country = df_membership.impacted_country.str.replace('Transjordan', 'Jordan')\n",
    "#And South Korea\n",
    "df_membership.impacted_country = df_membership.impacted_country.str.replace('Republic of Korea', 'South Korea')"
   ]
  },
  {
   "cell_type": "code",
   "execution_count": 7,
   "metadata": {},
   "outputs": [
    {
     "data": {
      "text/plain": [
       "Vietnam        8\n",
       "Italy          5\n",
       "Jordan         3\n",
       "Sri Lanka      3\n",
       "Ireland        3\n",
       "Portugal       3\n",
       "South Korea    3\n",
       "Japan          2\n",
       "Finland        2\n",
       "Austria        2\n",
       "Mauritania     1\n",
       "Bangladesh     1\n",
       "Laos           1\n",
       "Libya          1\n",
       "Kuwait         1\n",
       "Nepal          1\n",
       "Angola         1\n",
       "Cambodia       1\n",
       "Name: impacted_country, dtype: int64"
      ]
     },
     "execution_count": 7,
     "metadata": {},
     "output_type": "execute_result"
    }
   ],
   "source": [
    "df_membership.impacted_country.value_counts()"
   ]
  },
  {
   "cell_type": "code",
   "execution_count": 8,
   "metadata": {},
   "outputs": [
    {
     "data": {
      "text/plain": [
       "USSR     35\n",
       "USA       6\n",
       "China     1\n",
       "Name: veto_power, dtype: int64"
      ]
     },
     "execution_count": 8,
     "metadata": {},
     "output_type": "execute_result"
    }
   ],
   "source": [
    "df_membership.veto_power.value_counts()"
   ]
  },
  {
   "cell_type": "code",
   "execution_count": 9,
   "metadata": {},
   "outputs": [
    {
     "name": "stderr",
     "output_type": "stream",
     "text": [
      "/Users/max/.pyenv/versions/3.6.4/lib/python3.6/site-packages/pandas/core/generic.py:4401: SettingWithCopyWarning: \n",
      "A value is trying to be set on a copy of a slice from a DataFrame.\n",
      "Try using .loc[row_indexer,col_indexer] = value instead\n",
      "\n",
      "See the caveats in the documentation: http://pandas.pydata.org/pandas-docs/stable/indexing.html#indexing-view-versus-copy\n",
      "  self[name] = value\n"
     ]
    }
   ],
   "source": [
    "#Let's change these to what a map can handle:\n",
    "df_membership.veto_power = df_membership.veto_power.str.replace('USSR','Russia')\n",
    "df_membership.veto_power = df_membership.veto_power.str.replace('USA','United States of America')"
   ]
  },
  {
   "cell_type": "code",
   "execution_count": 10,
   "metadata": {},
   "outputs": [],
   "source": [
    "df_membership.to_csv('membership_veto.csv', index=False)"
   ]
  },
  {
   "cell_type": "code",
   "execution_count": null,
   "metadata": {},
   "outputs": [],
   "source": []
  }
 ],
 "metadata": {
  "kernelspec": {
   "display_name": "Python 3",
   "language": "python",
   "name": "python3"
  },
  "language_info": {
   "codemirror_mode": {
    "name": "ipython",
    "version": 3
   },
   "file_extension": ".py",
   "mimetype": "text/x-python",
   "name": "python",
   "nbconvert_exporter": "python",
   "pygments_lexer": "ipython3",
   "version": "3.6.4"
  }
 },
 "nbformat": 4,
 "nbformat_minor": 2
}
